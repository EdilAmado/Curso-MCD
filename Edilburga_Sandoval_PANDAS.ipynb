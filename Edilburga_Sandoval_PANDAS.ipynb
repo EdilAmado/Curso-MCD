{
  "nbformat": 4,
  "nbformat_minor": 0,
  "metadata": {
    "colab": {
      "provenance": []
    },
    "kernelspec": {
      "name": "python3",
      "display_name": "Python 3"
    },
    "language_info": {
      "name": "python"
    }
  },
  "cells": [
    {
      "cell_type": "code",
      "execution_count": 75,
      "metadata": {
        "id": "j7Q2W0thvNyr"
      },
      "outputs": [],
      "source": [
        "import numpy as np\n",
        "import pandas as pd\n",
        "import matplotlib.pyplot as pl\n",
        "import requests\n",
        "from zipfile import ZipFile\n",
        "from io import BytesIO"
      ]
    },
    {
      "cell_type": "code",
      "source": [
        "\n",
        "# URL del archivo ZIP\n",
        "url_zip = 'http://www.dgis.salud.gob.mx/descargas/datosabiertos/nacimientos/sinac_2023.zip?V=2024.05.14'\n",
        "\n",
        "# Descarga del archivo ZIP\n",
        "r = requests.get(url_zip)\n",
        "\n",
        "# Lectura del contenido del archivo ZIP\n",
        "zip_file = ZipFile(BytesIO(r.content))\n",
        "\n",
        "# Lista de los archivos en el ZIP\n",
        "archivos_zip = zip_file.namelist()\n",
        "\n",
        "# Selección el archivo CSV en el ZIP\n",
        "nombre_archivo_csv = [f for f in archivos_zip if f.endswith('.csv')][0]\n",
        "\n",
        "# Abrir el archivo CSV desde el ZIP\n",
        "with zip_file.open(nombre_archivo_csv) as archivo_csv:\n",
        "    datos = pd.read_csv(archivo_csv)\n",
        "\n",
        "# Tipos de datos\n",
        "tipos_de_datos_mas_importantes = datos.dtypes.head()\n",
        "\n",
        "print(\"Tipos de datos más importantes:\")\n",
        "print(tipos_de_datos_mas_importantes)\n"
      ],
      "metadata": {
        "colab": {
          "base_uri": "https://localhost:8080/"
        },
        "id": "lFgXuMacvkos",
        "outputId": "277f86f2-a22d-4eb6-a3ce-4ba64c471ce8"
      },
      "execution_count": 77,
      "outputs": [
        {
          "output_type": "stream",
          "name": "stdout",
          "text": [
            "Tipos de datos más importantes:\n",
            "NACIOEXTRANJERO        int64\n",
            "ENTIDADNACIMIENTO      int64\n",
            "MUNICIPIONACIMIENTO    int64\n",
            "EDAD                   int64\n",
            "SECONSIDERAINDIGENA    int64\n",
            "dtype: object\n"
          ]
        }
      ]
    },
    {
      "cell_type": "code",
      "source": [
        "\n",
        "# Encabezados del DataFrame\n",
        "print(\"Encabezados del DataFrame:\")\n",
        "print(datos.columns)\n",
        "\n"
      ],
      "metadata": {
        "colab": {
          "base_uri": "https://localhost:8080/"
        },
        "id": "KBNJIexG-Jft",
        "outputId": "dd9c4aac-78cb-4163-f563-7d1efac1d80b"
      },
      "execution_count": 63,
      "outputs": [
        {
          "output_type": "stream",
          "name": "stdout",
          "text": [
            "Encabezados del DataFrame:\n",
            "Index(['NACIOEXTRANJERO', 'ENTIDADNACIMIENTO', 'MUNICIPIONACIMIENTO', 'EDAD',\n",
            "       'SECONSIDERAINDIGENA', 'HABLALENGUAINDIGENA', 'FECHANACIMIENTOMADRE',\n",
            "       'ESTADOCONYUGAL', 'RESIDEEXTRANJERO', 'ENTIDADRESIDENCIA',\n",
            "       'MUNICIPIORESIDENCIA', 'LOCALIDADRESIDENCIA', 'NUMEROEMBARAZOS',\n",
            "       'HIJOSNACIDOSMUERTOS', 'HIJOSNACIDOSVIVOS', 'HIJOSSOBREVIVIENTES',\n",
            "       'CONDICIONHIJOANTERIOR', 'VIVEHIJOANTERIOR', 'ORDENNACIMIENTO',\n",
            "       'ATENCIONPRENATAL', 'TRIMESTREPRIMERCONSULTA', 'TOTALCONSULTAS',\n",
            "       'SOBREVIVIOPARTO', 'AFILIACION', 'ESCOLARIDAD', 'INTERRUMPIOESTUDIOS',\n",
            "       'CLAVEOCUPACIONHABITUAL', 'TRABAJAACTUALMENTE', 'EDADPADRE',\n",
            "       'FECHANACIMIENTO', 'HORANACIMIENTO', 'SEXO', 'EDADGESTACIONAL', 'TALLA',\n",
            "       'PESO', 'APGAR', 'SILVERMAN', 'TAMIZAUDITIVO', 'VACUNA_BCG',\n",
            "       'VACUNAHEPATITIS_B', 'VITAMINA_A', 'VITAMINA_K', 'PRODUCTOEMBARAZO',\n",
            "       'ORDENPRODUCTO', 'TOTALPRODUCTOS', 'CODIGOCIEANOMALIA1',\n",
            "       'CODIGOCIEANOMALIA2', 'LUGARNACIMIENTO', 'CLUES', 'TIEMPOTRASLADO',\n",
            "       'RESOLUCIONEMBARAZO', 'UTILIZOFORCEPS', 'TIPOCESAREA',\n",
            "       'PERSONALATENDIO', 'TIPOMEDICOATENDIO', 'ENTIDADFEDERATIVAPARTO',\n",
            "       'MUNICIPIOPARTO', 'LOCALIDADPARTO', 'CERTIFICADOPOR', 'CLUESCERTIFICA',\n",
            "       'ENTIDADFEDERATIVACERTIFICA', 'MUNICIPIOCERTIFICA',\n",
            "       'LOCALIDADCERTIFICA', 'FECHACERTIFICADO'],\n",
            "      dtype='object')\n"
          ]
        }
      ]
    },
    {
      "cell_type": "code",
      "source": [
        "#Encabezados del data frame\n",
        "HEAD = datos.head(20)\n",
        "print(HEAD)"
      ],
      "metadata": {
        "colab": {
          "base_uri": "https://localhost:8080/"
        },
        "id": "6WciovAXOq9Z",
        "outputId": "70bcb7a0-180c-4494-908d-b8bb341776fa"
      },
      "execution_count": 68,
      "outputs": [
        {
          "output_type": "stream",
          "name": "stdout",
          "text": [
            "    NACIOEXTRANJERO  ENTIDADNACIMIENTO  MUNICIPIONACIMIENTO  EDAD  \\\n",
            "0                 2                  9                   12    25   \n",
            "1                 2                 15                   33    22   \n",
            "2                 2                 12                   28    20   \n",
            "3                 2                 13                   63    28   \n",
            "4                 2                 15                  101    29   \n",
            "5                 2                 11                   32    36   \n",
            "6                 2                 20                  102    33   \n",
            "7                 2                 20                   67    17   \n",
            "8                 2                 11                   42    22   \n",
            "9                 2                 14                   39    23   \n",
            "10                2                 14                   67    28   \n",
            "11                2                 20                  184    30   \n",
            "12                2                 30                  189    34   \n",
            "13                2                 15                   33    24   \n",
            "14                2                 30                  201    18   \n",
            "15                2                 15                   86    20   \n",
            "16                2                 12                   28    28   \n",
            "17                2                  7                  102    36   \n",
            "18                2                 15                   75    27   \n",
            "19                2                 11                   14    39   \n",
            "\n",
            "    SECONSIDERAINDIGENA  HABLALENGUAINDIGENA FECHANACIMIENTOMADRE  \\\n",
            "0                     2                    2           23/07/1997   \n",
            "1                     2                    2           11/05/2000   \n",
            "2                     1                    1           12/08/2002   \n",
            "3                     2                    2           24/12/1994   \n",
            "4                     2                    2           23/05/1993   \n",
            "5                     2                    2           27/06/1986   \n",
            "6                     2                    2           07/07/1989   \n",
            "7                     2                    2           16/01/2006   \n",
            "8                     2                    2           12/06/2000   \n",
            "9                     2                    2           02/02/2000   \n",
            "10                    2                    2           07/04/1995   \n",
            "11                    1                    1           04/02/1993   \n",
            "12                    2                    2           24/10/1988   \n",
            "13                    2                    2           22/02/1999   \n",
            "14                    1                    1           16/04/2004   \n",
            "15                    2                    2           20/03/2002   \n",
            "16                    2                    2           09/10/1994   \n",
            "17                    2                    2           22/11/1986   \n",
            "18                    2                    2           29/04/1995   \n",
            "19                    0                    0           07/11/1983   \n",
            "\n",
            "    ESTADOCONYUGAL  RESIDEEXTRANJERO  ENTIDADRESIDENCIA  ...  \\\n",
            "0                5                 2                  9  ...   \n",
            "1                5                 2                  9  ...   \n",
            "2                4                 2                 12  ...   \n",
            "3                4                 2                 13  ...   \n",
            "4                4                 2                 15  ...   \n",
            "5                5                 2                 11  ...   \n",
            "6                4                 2                 20  ...   \n",
            "7                4                 2                 20  ...   \n",
            "8                4                 2                 11  ...   \n",
            "9                4                 2                 14  ...   \n",
            "10               5                 2                 14  ...   \n",
            "11               4                 2                 20  ...   \n",
            "12               4                 2                 28  ...   \n",
            "13               4                 2                  9  ...   \n",
            "14               4                 2                 30  ...   \n",
            "15               5                 2                 15  ...   \n",
            "16               4                 2                 18  ...   \n",
            "17               4                 2                  7  ...   \n",
            "18               4                 2                 16  ...   \n",
            "19               4                 2                 11  ...   \n",
            "\n",
            "    TIPOMEDICOATENDIO  ENTIDADFEDERATIVAPARTO  MUNICIPIOPARTO  LOCALIDADPARTO  \\\n",
            "0                11.0                       9              10               1   \n",
            "1                11.0                       9               5               1   \n",
            "2                14.0                      12              28               1   \n",
            "3                11.0                      13              63               1   \n",
            "4                11.0                      15              54              35   \n",
            "5                11.0                      11              32               1   \n",
            "6                13.0                      20              67               1   \n",
            "7                13.0                      20              67               1   \n",
            "8                11.0                      11              42               1   \n",
            "9                11.0                      14              39               1   \n",
            "10               11.0                      14              67               1   \n",
            "11               11.0                      20             184               1   \n",
            "12               11.0                      28              32               1   \n",
            "13               11.0                       9               7               1   \n",
            "14               14.0                      30             184              26   \n",
            "15               11.0                      15              86               3   \n",
            "16               11.0                      14              67               1   \n",
            "17               11.0                       7              89               1   \n",
            "18               11.0                      16              52               1   \n",
            "19               11.0                      11              14             265   \n",
            "\n",
            "    CERTIFICADOPOR  CLUESCERTIFICA  ENTIDADFEDERATIVACERTIFICA  \\\n",
            "0                1             NaN                           9   \n",
            "1                1             NaN                           9   \n",
            "2                2             NaN                          12   \n",
            "3                1             NaN                          13   \n",
            "4                1             NaN                          15   \n",
            "5                1             NaN                          11   \n",
            "6                1             NaN                          20   \n",
            "7                1             NaN                          20   \n",
            "8                1             NaN                          11   \n",
            "9                1             NaN                          14   \n",
            "10               1            9998                          14   \n",
            "11               1             NaN                          20   \n",
            "12               1             NaN                          28   \n",
            "13               1             NaN                           9   \n",
            "14               2             NaN                          30   \n",
            "15               2             NaN                          15   \n",
            "16               1             NaN                          14   \n",
            "17               1             NaN                           7   \n",
            "18               2             NaN                          16   \n",
            "19               7     GTSMP002290                          11   \n",
            "\n",
            "    MUNICIPIOCERTIFICA  LOCALIDADCERTIFICA  FECHACERTIFICADO  \n",
            "0                   10                   1        09/05/2023  \n",
            "1                    5                   1        28/02/2023  \n",
            "2                   28                   1        17/06/2023  \n",
            "3                   63                   1        21/11/2023  \n",
            "4                   54                  35        08/05/2023  \n",
            "5                   32                   1        08/05/2023  \n",
            "6                   67                   1        05/06/2023  \n",
            "7                   67                   1        05/06/2023  \n",
            "8                   42                   1        01/02/2023  \n",
            "9                   39                   1        14/02/2023  \n",
            "10                  67                   1        02/09/2023  \n",
            "11                 184                   1        06/05/2023  \n",
            "12                  32                   1        27/02/2023  \n",
            "13                   7                   1        11/04/2023  \n",
            "14                 184                  26        13/01/2023  \n",
            "15                  86                   3        08/01/2023  \n",
            "16                  67                   1        10/09/2023  \n",
            "17                  89                   1        23/01/2023  \n",
            "18                  52                   1        12/01/2023  \n",
            "19                  14                   1        14/02/2023  \n",
            "\n",
            "[20 rows x 64 columns]\n"
          ]
        }
      ]
    },
    {
      "cell_type": "code",
      "source": [
        "# Seleccionar solo las filas donde la columna 'ENTIDADNACIMIENTO' sea igual a 'SONORA'\n",
        "datos_sonora = datos[datos['ENTIDADNACIMIENTO'] == '26']\n"
      ],
      "metadata": {
        "id": "3BWqPrQG85Zb"
      },
      "execution_count": 61,
      "outputs": []
    },
    {
      "cell_type": "code",
      "source": [
        "#Gráfica de barras de la edad de la madre\n",
        "\n",
        "plt.figure(figsize=(20, 6))\n",
        "datos['EDAD'].plot(kind='hist', bins=20, color='skyblue', edgecolor='black')  # Histograma de la columna de edades\n",
        "plt.title('Distribución de edades de las madres')\n",
        "plt.xlabel('Edad')\n",
        "plt.ylabel('Frecuencia')\n",
        "plt.grid(axis='y', linestyle='--', alpha=0.7)  # Añadir una rejilla horizontal para una mejor visualización\n",
        "plt.tight_layout()  # Ajustar el diseño para evitar cortar etiquetas\n",
        "plt.show()"
      ],
      "metadata": {
        "colab": {
          "base_uri": "https://localhost:8080/",
          "height": 436
        },
        "id": "CXoCW8yTCX4r",
        "outputId": "4c323c04-a16a-4cc8-c7a8-00975eb503bb"
      },
      "execution_count": 74,
      "outputs": [
        {
          "output_type": "display_data",
          "data": {
            "text/plain": [
              "<Figure size 2000x600 with 1 Axes>"
            ],
            "image/png": "[encoded data removed]"
          },
          "metadata": {}
        }
      ]
    },
    {
      "cell_type": "markdown",
      "source": [
        "Se observa en la gráfica que una gran cantidad de nacimientos provienen de madres con edad de entre 20 y 23 años. A partir de los 35 años disminuyen los nacimientos de manera marcada.\n"
      ],
      "metadata": {
        "id": "Sp1CsPa6QbiB"
      }
    }
  ]
}